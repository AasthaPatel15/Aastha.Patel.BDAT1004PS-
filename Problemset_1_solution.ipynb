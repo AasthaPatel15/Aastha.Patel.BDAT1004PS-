{
  "nbformat": 4,
  "nbformat_minor": 0,
  "metadata": {
    "colab": {
      "provenance": []
    },
    "kernelspec": {
      "name": "python3",
      "display_name": "Python 3"
    },
    "language_info": {
      "name": "python"
    }
  },
  "cells": [
    {
      "cell_type": "markdown",
      "source": [
        "# Problemset 1"
      ],
      "metadata": {
        "id": "MyvuyZff8sSc"
      }
    },
    {
      "cell_type": "code",
      "source": [
        "import math"
      ],
      "metadata": {
        "id": "I3tVimgo820m"
      },
      "execution_count": 2,
      "outputs": []
    },
    {
      "cell_type": "markdown",
      "source": [
        "Q1\n"
      ],
      "metadata": {
        "id": "Zm20mY9Y92J4"
      }
    },
    {
      "cell_type": "code",
      "execution_count": 4,
      "metadata": {
        "colab": {
          "base_uri": "https://localhost:8080/"
        },
        "id": "Wh8FzjMQ8qhv",
        "outputId": "5b0a5b6e-72be-4711-9f44-44ab6caf151f"
      },
      "outputs": [
        {
          "output_type": "stream",
          "name": "stdout",
          "text": [
            "<class 'int'>\n",
            "5\n",
            "<class 'float'>\n",
            "5.0\n",
            "<class 'bool'>\n",
            "True\n",
            "<class 'str'>\n",
            "5\n",
            "<class 'int'>\n",
            "10\n",
            "<class 'str'>\n",
            "55\n",
            "<class 'str'>\n",
            "52\n",
            "<class 'float'>\n",
            "2.5\n",
            "<class 'int'>\n",
            "1\n",
            "<class 'set'>\n",
            "{1, 2, 5}\n",
            "<class 'bool'>\n",
            "False\n",
            "<class 'float'>\n",
            "3.141592653589793\n"
          ]
        }
      ],
      "source": [
        "print(type(5))\n",
        "print(5)\n",
        "print(type(5.0))\n",
        "print(5.0)\n",
        "print(type(5 > 1))\n",
        "print(5 > 1)\n",
        "print(type('5'))\n",
        "print('5')\n",
        "print(type(5 * 2))\n",
        "print(5 * 2)\n",
        "print(type('5' * 2))\n",
        "print('5' * 2)\n",
        "print(type('5' + '2'))\n",
        "print('5' + '2')\n",
        "print(type(5 / 2))\n",
        "print(5 / 2)\n",
        "print(type(5 % 2))\n",
        "print(5 % 2)\n",
        "print(type({5, 2, 1}))\n",
        "print({5, 2, 1})\n",
        "print(type(5 == 3))\n",
        "print(5 == 3)\n",
        "\n",
        "print(type(math.pi))\n",
        "print(math.pi)\n"
      ]
    },
    {
      "cell_type": "markdown",
      "source": [
        "Q2"
      ],
      "metadata": {
        "id": "7IlBEGB794ZV"
      }
    },
    {
      "cell_type": "markdown",
      "source": [
        "a."
      ],
      "metadata": {
        "id": "fctvFV-I9_3-"
      }
    },
    {
      "cell_type": "code",
      "source": [
        "len('Supercalifragilisticexpialidocious')\n"
      ],
      "metadata": {
        "colab": {
          "base_uri": "https://localhost:8080/"
        },
        "id": "cgVm8F-K95Yf",
        "outputId": "74ab5258-5645-45e4-f782-9edf7315bdac"
      },
      "execution_count": 5,
      "outputs": [
        {
          "output_type": "execute_result",
          "data": {
            "text/plain": [
              "34"
            ]
          },
          "metadata": {},
          "execution_count": 5
        }
      ]
    },
    {
      "cell_type": "markdown",
      "source": [
        "b."
      ],
      "metadata": {
        "id": "Fq4DBBWw-C2T"
      }
    },
    {
      "cell_type": "code",
      "source": [
        "'ice' in 'Supercalifragilisticexpialidocious'\n"
      ],
      "metadata": {
        "colab": {
          "base_uri": "https://localhost:8080/"
        },
        "id": "UtfIUVOS-D5J",
        "outputId": "ece1ab26-c746-4b85-fdbe-a8ef8a3153ae"
      },
      "execution_count": 6,
      "outputs": [
        {
          "output_type": "execute_result",
          "data": {
            "text/plain": [
              "True"
            ]
          },
          "metadata": {},
          "execution_count": 6
        }
      ]
    },
    {
      "cell_type": "markdown",
      "source": [
        "c.\n"
      ],
      "metadata": {
        "id": "z0kRcZzs-HNO"
      }
    },
    {
      "cell_type": "code",
      "source": [
        "words = ['Supercalifragilisticexpialidocious', 'Honorificabilitudinitatibus', 'Bababadalgharaghtakamminarronnkonn']\n",
        "max(words, key=len)\n"
      ],
      "metadata": {
        "colab": {
          "base_uri": "https://localhost:8080/",
          "height": 35
        },
        "id": "X8DSG_P--ITA",
        "outputId": "6adf7a7f-324d-4ce0-976a-feac36a2c92d"
      },
      "execution_count": 7,
      "outputs": [
        {
          "output_type": "execute_result",
          "data": {
            "text/plain": [
              "'Supercalifragilisticexpialidocious'"
            ],
            "application/vnd.google.colaboratory.intrinsic+json": {
              "type": "string"
            }
          },
          "metadata": {},
          "execution_count": 7
        }
      ]
    },
    {
      "cell_type": "markdown",
      "source": [
        "d."
      ],
      "metadata": {
        "id": "hTRYokRp-Lg-"
      }
    },
    {
      "cell_type": "code",
      "source": [
        "composers = ['Berlioz', 'Borodin', 'Brian', 'Bartok', 'Bellini', 'Buxtehude', 'Bernstein']\n",
        "sorted(composers)[0]\n",
        "sorted(composers)[-1]\n"
      ],
      "metadata": {
        "colab": {
          "base_uri": "https://localhost:8080/",
          "height": 35
        },
        "id": "4f5_v74d-MjI",
        "outputId": "4749559f-6ea6-418f-fd97-f85faae4fef3"
      },
      "execution_count": 8,
      "outputs": [
        {
          "output_type": "execute_result",
          "data": {
            "text/plain": [
              "'Buxtehude'"
            ],
            "application/vnd.google.colaboratory.intrinsic+json": {
              "type": "string"
            }
          },
          "metadata": {},
          "execution_count": 8
        }
      ]
    },
    {
      "cell_type": "markdown",
      "source": [
        "Q3"
      ],
      "metadata": {
        "id": "XuHjOEi8-VLM"
      }
    },
    {
      "cell_type": "code",
      "source": [
        "def triangleArea(a, b, c):\n",
        "    s = (a + b + c) / 2\n",
        "    area = (s*(s-a)*(s-b)*(s-c)) ** 0.5\n",
        "    return area\n",
        "\n",
        "triangleArea(2, 2, 2)\n"
      ],
      "metadata": {
        "colab": {
          "base_uri": "https://localhost:8080/"
        },
        "id": "Ho9sQYvi-WYS",
        "outputId": "a59ea212-7b2c-4040-d263-8eff79393238"
      },
      "execution_count": 34,
      "outputs": [
        {
          "output_type": "execute_result",
          "data": {
            "text/plain": [
              "1.7320508075688772"
            ]
          },
          "metadata": {},
          "execution_count": 34
        }
      ]
    },
    {
      "cell_type": "markdown",
      "source": [
        "Q4"
      ],
      "metadata": {
        "id": "bTnAlAdC-Yf9"
      }
    },
    {
      "cell_type": "code",
      "source": [
        "elmt = [25, 47, 42, 56, 32]\n",
        "\n",
        "odd_elmt = [element for element in elmt if element % 2 != 0]\n",
        "even_elmt = [element for element in elmt if element % 2 == 0]\n",
        "\n",
        "print(\"The Even elements are:\")\n",
        "for even in even_elmt:\n",
        "    print(even, end=\" \")\n",
        "print(\"\\nThe Odd elements are:\")\n",
        "for odd in odd_elmt:\n",
        "    print(odd, end=\" \")\n"
      ],
      "metadata": {
        "colab": {
          "base_uri": "https://localhost:8080/"
        },
        "id": "cEb4uM8L-YH9",
        "outputId": "5a0a80a6-8da3-4bcf-b61b-ae3064e254c3"
      },
      "execution_count": 33,
      "outputs": [
        {
          "output_type": "stream",
          "name": "stdout",
          "text": [
            "The Even elements are:\n",
            "42 56 32 \n",
            "The Odd elements are:\n",
            "25 47 "
          ]
        }
      ]
    },
    {
      "cell_type": "markdown",
      "source": [
        "Q5"
      ],
      "metadata": {
        "id": "SCO-a1a2_RVE"
      }
    },
    {
      "cell_type": "markdown",
      "source": [
        "a."
      ],
      "metadata": {
        "id": "wIErzV4S_UDK"
      }
    },
    {
      "cell_type": "code",
      "source": [
        "def inside(x, y, x1, y1, x2, y2):\n",
        "    return x1 <= x <= x2 and y1 <= y <= y2\n",
        "\n",
        "print(inside(1, 1, 0, 0, 2, 3))\n",
        "print(inside(-1, -1, 0, 0, 2, 3))\n"
      ],
      "metadata": {
        "colab": {
          "base_uri": "https://localhost:8080/"
        },
        "id": "cujglnJB_SfX",
        "outputId": "86dd6843-e05b-4383-e903-026a9201dc42"
      },
      "execution_count": 12,
      "outputs": [
        {
          "output_type": "stream",
          "name": "stdout",
          "text": [
            "True\n",
            "False\n"
          ]
        }
      ]
    },
    {
      "cell_type": "markdown",
      "source": [
        "b."
      ],
      "metadata": {
        "id": "j9sUYC6e_Vsf"
      }
    },
    {
      "cell_type": "code",
      "source": [
        "test_rect_1 = inside(1, 1, 0.3, 0.5, 1.1, 0.7)\n",
        "test_rect_2 = inside(1, 1, 0.5, 0.2, 1.1, 2)\n",
        "\n",
        "print(f\"Point (1,1) inside first rectangle: {test_rect_1}\")\n",
        "print(f\"Point (1,1) inside second rectangle: {test_rect_2}\")\n",
        "print(f\"Point (1,1) lies inside both rectangles: {test_rect_1 and test_rect_2}\")"
      ],
      "metadata": {
        "colab": {
          "base_uri": "https://localhost:8080/"
        },
        "id": "WXXqoulO_W3t",
        "outputId": "8236bf70-e328-4130-b735-7be138daa538"
      },
      "execution_count": 13,
      "outputs": [
        {
          "output_type": "stream",
          "name": "stdout",
          "text": [
            "Point (1,1) inside first rectangle: False\n",
            "Point (1,1) inside second rectangle: True\n",
            "Point (1,1) lies inside both rectangles: False\n"
          ]
        }
      ]
    },
    {
      "cell_type": "markdown",
      "source": [
        "Q6"
      ],
      "metadata": {
        "id": "vJr6-YOCAERZ"
      }
    },
    {
      "cell_type": "code",
      "source": [
        "def pig(word):\n",
        "    v = 'aeiou'\n",
        "    word = word.lower()\n",
        "\n",
        "    if word[0] in v:\n",
        "        return word + 'way'\n",
        "    else:\n",
        "        return word[1:] + word[0] + 'ay'\n",
        "\n",
        "print(pig('happy'))\n",
        "print(pig('Enter'))"
      ],
      "metadata": {
        "colab": {
          "base_uri": "https://localhost:8080/"
        },
        "id": "6l9FI1xVAFno",
        "outputId": "47b2fe39-5220-4077-86f3-cf5df1beff38"
      },
      "execution_count": 32,
      "outputs": [
        {
          "output_type": "stream",
          "name": "stdout",
          "text": [
            "appyhay\n",
            "enterway\n"
          ]
        }
      ]
    },
    {
      "cell_type": "markdown",
      "source": [
        "Q7"
      ],
      "metadata": {
        "id": "h1tzg9qAA1NU"
      }
    },
    {
      "cell_type": "code",
      "source": [
        "def bldcount(filename):\n",
        "\n",
        "    with open(filename, 'r') as file:\n",
        "        content = file.read()\n",
        "    bloodtypes = content.split()\n",
        "    counts = {blood_type: bloodtypes.count(blood_type) for blood_type in set(bloodtypes)}\n",
        "    order = ['A', 'B', 'AB', 'O', 'OO']\n",
        "\n",
        "    for bloodtype in order:\n",
        "        cnt = counts.get(bloodtype, 0)\n",
        "        if cnt == 0:\n",
        "            print(f'There are no patients of blood type {bloodtype}.')\n",
        "        elif cnt == 1:\n",
        "            print(f'There is one patient of blood type {bloodtype}.')\n",
        "        else:\n",
        "            print(f'There are {cnt} patients of blood type {bloodtype}.')\n",
        "\n",
        "bldcount(\"/content/bloodtype.txt\")\n"
      ],
      "metadata": {
        "colab": {
          "base_uri": "https://localhost:8080/"
        },
        "id": "vQQu39IQA2nu",
        "outputId": "67ca8ba5-bcd3-47c3-d689-3e94f1df23be"
      },
      "execution_count": 31,
      "outputs": [
        {
          "output_type": "stream",
          "name": "stdout",
          "text": [
            "There are no patients of blood type A.\n",
            "There are no patients of blood type B.\n",
            "There are no patients of blood type AB.\n",
            "There are no patients of blood type O.\n",
            "There are no patients of blood type OO.\n"
          ]
        }
      ]
    },
    {
      "cell_type": "markdown",
      "source": [
        "Q8"
      ],
      "metadata": {
        "id": "VvtmatXJEu10"
      }
    },
    {
      "cell_type": "code",
      "source": [
        "def curconv(cur, amt):\n",
        "    with open('/content/currencies.txt', 'r') as file:\n",
        "        for l in file:\n",
        "            data = l.split()\n",
        "\n",
        "            if data[0] == cur:\n",
        "                return amt * float(data[1])\n",
        "\n",
        "print(curconv('EUR', 100))\n",
        "print(curconv('JPY', 100))"
      ],
      "metadata": {
        "colab": {
          "base_uri": "https://localhost:8080/"
        },
        "id": "UbV04bLYEwAb",
        "outputId": "4169b63f-e03f-4939-fac5-933bfc684d6b"
      },
      "execution_count": 29,
      "outputs": [
        {
          "output_type": "stream",
          "name": "stdout",
          "text": [
            "122.96544\n",
            "1.241401\n"
          ]
        }
      ]
    },
    {
      "cell_type": "markdown",
      "source": [
        "Q9"
      ],
      "metadata": {
        "id": "9hwFwtYPFWvJ"
      }
    },
    {
      "cell_type": "markdown",
      "source": [
        "\n",
        "\n",
        "*   Combining 6 and \"a\" will result in a TypeError since Python is unable to combine an integer and a string.\n",
        "\n",
        "*   Speaking about the twelfth item on a list consisting of just ten: An IndexError will appear as a consequence, indicating that the index is outside of the range of the list.\n",
        "\n",
        "*   Calling math.sqrt(-1.0) will result in a ValueError since Python's built-in real number system does not specify the square root of a negative value.\n",
        "\n",
        "*   When x is not specified, using an undeclared variable—print(x)—is inappropriate. You're attempting to use a variable that hasn't been defined or declared, which will result in a NameError.\n",
        "\n",
        "*   attempting to open a nonexistent file: This will cause a FileNotFoundError: This error message means that the specified file does not exist or cannot be located at the supplied location.\n",
        "\n",
        "\n",
        "\n",
        "\n",
        "\n",
        "\n",
        "\n",
        "\n",
        "\n",
        "\n",
        "\n",
        "\n"
      ],
      "metadata": {
        "id": "00PewxliGMdV"
      }
    },
    {
      "cell_type": "markdown",
      "source": [
        "Q10"
      ],
      "metadata": {
        "id": "6v8M0d1QOQXw"
      }
    },
    {
      "cell_type": "code",
      "source": [
        "def frequencies(txt):\n",
        "    letters = 'abcdefghijklmnopqrstuvwxyz'\n",
        "    freq_list = [0] * len(letters)\n",
        "\n",
        "    txt = txt.lower()\n",
        "\n",
        "    for char in txt:\n",
        "        if char in letters:\n",
        "            freq_list[letters.index(char)] += 1\n",
        "\n",
        "    return freq_list\n",
        "\n",
        "print(frequencies('The quick red fox got bored and went home.'))\n",
        "print(frequencies('apple'))\n"
      ],
      "metadata": {
        "colab": {
          "base_uri": "https://localhost:8080/"
        },
        "id": "cwYEjgosFYYH",
        "outputId": "33daab83-469a-4dbb-bf6c-0731d5ec8506"
      },
      "execution_count": 27,
      "outputs": [
        {
          "output_type": "stream",
          "name": "stdout",
          "text": [
            "[1, 1, 1, 3, 5, 1, 1, 2, 1, 0, 1, 0, 1, 2, 4, 0, 1, 2, 0, 3, 1, 0, 1, 1, 0, 0]\n",
            "[1, 0, 0, 0, 1, 0, 0, 0, 0, 0, 0, 1, 0, 0, 0, 2, 0, 0, 0, 0, 0, 0, 0, 0, 0, 0]\n"
          ]
        }
      ]
    }
  ]
}